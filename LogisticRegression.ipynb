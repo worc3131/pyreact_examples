{
 "cells": [
  {
   "cell_type": "markdown",
   "metadata": {},
   "source": [
    "A comparison to the below\n",
    "\n",
    "https://github.com/tirthajyoti/Interactive_Machine_Learning/blob/master/Interactive%20ML-Regression.ipynb"
   ]
  },
  {
   "cell_type": "code",
   "execution_count": 1,
   "metadata": {},
   "outputs": [],
   "source": [
    "from reactpy import Reactive, Interact, Plot\n",
    "import numpy as np\n",
    "import matplotlib.pyplot as plt\n",
    "%matplotlib widget\n",
    "\n",
    "import pandas as pd"
   ]
  },
  {
   "cell_type": "code",
   "execution_count": 2,
   "metadata": {},
   "outputs": [],
   "source": [
    "from sklearn.model_selection import train_test_split\n",
    "from sklearn.preprocessing import PolynomialFeatures\n",
    "from sklearn.linear_model import LassoCV\n",
    "from sklearn.linear_model import RidgeCV\n",
    "from sklearn.linear_model import LinearRegression\n",
    "from sklearn.pipeline import make_pipeline"
   ]
  },
  {
   "cell_type": "code",
   "execution_count": 3,
   "metadata": {},
   "outputs": [],
   "source": [
    "r = Reactive(lazy_eval=False)\n",
    "r.update(get_ipython().user_ns)\n",
    "get_ipython().user_ns =  r"
   ]
  },
  {
   "cell_type": "code",
   "execution_count": 4,
   "metadata": {},
   "outputs": [
    {
     "data": {
      "application/vnd.jupyter.widget-view+json": {
       "model_id": "78fc434f4ba144ea86240b48feb4759d",
       "version_major": 2,
       "version_minor": 0
      },
      "text/plain": [
       "interactive(children=(Dropdown(description='value', options={'Low (50 samples)': 50, 'High (200 samples)': 200…"
      ]
     },
     "metadata": {},
     "output_type": "display_data"
    },
    {
     "data": {
      "application/vnd.jupyter.widget-view+json": {
       "model_id": "f61571d2727947b49b202ec8486f02c3",
       "version_major": 2,
       "version_minor": 0
      },
      "text/plain": [
       "interactive(children=(IntSlider(value=-3, description='value', max=0, min=-5), Output()), _dom_classes=('widge…"
      ]
     },
     "metadata": {},
     "output_type": "display_data"
    },
    {
     "data": {
      "application/vnd.jupyter.widget-view+json": {
       "model_id": "78054003a3a14bc9a1827ff200bab152",
       "version_major": 2,
       "version_minor": 0
      },
      "text/plain": [
       "interactive(children=(IntSlider(value=2, description='value', max=5), Output()), _dom_classes=('widget-interac…"
      ]
     },
     "metadata": {},
     "output_type": "display_data"
    },
    {
     "data": {
      "application/vnd.jupyter.widget-view+json": {
       "model_id": "070ad07722114ce4a638788a3dcd64ee",
       "version_major": 2,
       "version_minor": 0
      },
      "text/plain": [
       "interactive(children=(IntSlider(value=2, description='value', max=5), Output()), _dom_classes=('widget-interac…"
      ]
     },
     "metadata": {},
     "output_type": "display_data"
    },
    {
     "data": {
      "application/vnd.jupyter.widget-view+json": {
       "model_id": "e6a8131e98f944b79e43921efd3ec275",
       "version_major": 2,
       "version_minor": 0
      },
      "text/plain": [
       "interactive(children=(FloatSlider(value=0.5, description='value', max=1.0, min=0.1), Output()), _dom_classes=(…"
      ]
     },
     "metadata": {},
     "output_type": "display_data"
    },
    {
     "data": {
      "application/vnd.jupyter.widget-view+json": {
       "model_id": "614955ffa09848a2a51b363a41d1355a",
       "version_major": 2,
       "version_minor": 0
      },
      "text/plain": [
       "interactive(children=(FloatSlider(value=0.0, description='value', max=2.0, min=-2.0, step=0.5), Output()), _do…"
      ]
     },
     "metadata": {},
     "output_type": "display_data"
    },
    {
     "data": {
      "application/vnd.jupyter.widget-view+json": {
       "model_id": "4273386f35b54581b60460562c34816c",
       "version_major": 2,
       "version_minor": 0
      },
      "text/plain": [
       "Canvas(toolbar=Toolbar(toolitems=[('Home', 'Reset original view', 'home', 'home'), ('Back', 'Back to previous …"
      ]
     },
     "metadata": {},
     "output_type": "display_data"
    }
   ],
   "source": [
    "N_samples = Interact('Samples', {'Low (50 samples)':50,'High (200 samples)':200})\n",
    "x_min = Interact('Min X', (-5,0,1))\n",
    "x_max = Interact('Max X', (0,5,1))\n",
    "noise_mag = Interact('Mag Noise', (0,5,1))\n",
    "noise_sd = Interact('Std. Noise', (0.1,1,0.1))\n",
    "noise_mean = Interact('Mean Noise', (-2,2,0.5))\n",
    "\n",
    "x1= r(lambda x_min, x_max, N_samples: np.linspace(x_min,x_max,N_samples*5))\n",
    "x = r(lambda x1, N_samples: np.random.choice(x1, size=N_samples))\n",
    "y = r(lambda x: 2*x-0.6*x**2+0.2*x**3+18*np.sin(x))\n",
    "y1 = r(lambda x1: 2*x1-0.6*x1**2+0.2*x1**3+18*np.sin(x1))\n",
    "yp = r(lambda y, noise_mag, noise_mean, noise_sd, N_samples: y+noise_mag*np.random.normal(\n",
    "    loc=noise_mean,scale=noise_sd,size=N_samples))\n",
    "\n",
    "def plot(ax,x,yp,x1,y1):\n",
    "    ax.plot(x1,y1,c='k',lw=2)\n",
    "    ax.scatter(x,yp,edgecolors='k',c='yellow',s=60)\n",
    "    ax.grid(True)    \n",
    "\n",
    "p = Plot(plot)"
   ]
  },
  {
   "cell_type": "code",
   "execution_count": 5,
   "metadata": {},
   "outputs": [],
   "source": [
    "lasso_eps = 0.01\n",
    "lasso_nalpha=20\n",
    "lasso_iter=3000\n",
    "ridge_alphas = (0.001,0.01,0.1,1)"
   ]
  },
  {
   "cell_type": "code",
   "execution_count": 6,
   "metadata": {},
   "outputs": [
    {
     "data": {
      "application/vnd.jupyter.widget-view+json": {
       "model_id": "f6d8f44d74ec4434b96e0fa17766bab3",
       "version_major": 2,
       "version_minor": 0
      },
      "text/plain": [
       "interactive(children=(Dropdown(description='value', options=('Linear regression', 'LASSO with CV', 'Ridge with…"
      ]
     },
     "metadata": {},
     "output_type": "display_data"
    },
    {
     "data": {
      "application/vnd.jupyter.widget-view+json": {
       "model_id": "1a68d0d8e916466585c7bd0b269c3266",
       "version_major": 2,
       "version_minor": 0
      },
      "text/plain": [
       "interactive(children=(IntSlider(value=50, description='value', max=99, min=10, step=5), Output()), _dom_classe…"
      ]
     },
     "metadata": {},
     "output_type": "display_data"
    },
    {
     "data": {
      "application/vnd.jupyter.widget-view+json": {
       "model_id": "788fabba28254346badf29f59e55b76a",
       "version_major": 2,
       "version_minor": 0
      },
      "text/plain": [
       "interactive(children=(IntSlider(value=5, description='value', max=10, min=1), Output()), _dom_classes=('widget…"
      ]
     },
     "metadata": {},
     "output_type": "display_data"
    },
    {
     "data": {
      "application/vnd.jupyter.widget-view+json": {
       "model_id": "1e85a1d3988e4c34bfba7dae1bab21cb",
       "version_major": 2,
       "version_minor": 0
      },
      "text/plain": [
       "Canvas(toolbar=Toolbar(toolitems=[('Home', 'Reset original view', 'home', 'home'), ('Back', 'Back to previous …"
      ]
     },
     "metadata": {},
     "output_type": "display_data"
    }
   ],
   "source": [
    "model_type = Interact('Model', ['Linear regression','LASSO with CV', 'Ridge with CV'])\n",
    "test_size = Interact('Test Size %', (10,99,5))\n",
    "degree = Interact('Degree', (1,10,1))\n",
    "\n",
    "split = r(lambda x,y,test_size: train_test_split(\n",
    "    x,y,test_size=test_size*0.01,random_state=55))\n",
    "X_train = r(lambda split: split[0].reshape(-1,1))\n",
    "X_test  = r(lambda split: split[1].reshape(-1,1))\n",
    "y_train = r(lambda split: split[2])\n",
    "y_test  = r(lambda split: split[3])\n",
    "\n",
    "def get_model(X_train, y_train, model_type, degree, ):\n",
    "    if (model_type=='Linear regression'):\n",
    "        model = make_pipeline(PolynomialFeatures(degree,interaction_only=False), \n",
    "                          LinearRegression(normalize=True))\n",
    "    if (model_type=='LASSO with CV'):    \n",
    "        model = make_pipeline(PolynomialFeatures(degree,interaction_only=False), \n",
    "                              LassoCV(eps=lasso_eps,n_alphas=lasso_nalpha,\n",
    "                                        max_iter=lasso_iter,normalize=True,cv=5))        \n",
    "    if (model_type=='Ridge with CV'):    \n",
    "        model = make_pipeline(PolynomialFeatures(degree,interaction_only=False), \n",
    "                              RidgeCV(alphas=ridge_alphas,normalize=True,cv=5))\n",
    "    model.fit(X_train,y_train)\n",
    "    return model\n",
    "\n",
    "model = r(get_model)\n",
    "train_pred  = r(lambda model, X_train: model.predict(X_train))\n",
    "train_score = r(lambda model, X_train, y_train: model.score(X_train,y_train))\n",
    "test_pred   = r(lambda model, X_test: model.predict(X_test))\n",
    "test_score  = r(lambda model, X_test, y_test: model.score(X_test,y_test))\n",
    "RMSE_test   = r(lambda test_pred, y_test: np.sqrt(np.mean(np.square(test_pred-y_test))))\n",
    "RMSE_train  = r(lambda train_pred, y_train: np.sqrt(np.mean(np.square(train_pred-y_train))))\n",
    "\n",
    "fig,(ax1, ax2) = plt.subplots(1, 2, figsize=(10,6))\n",
    "ax1.set_xlim(-3,3)\n",
    "ax1.set_ylim(-30,30)\n",
    "ax2.set_xlim(-3,3)\n",
    "ax2.set_ylim(-30,30)\n",
    "\n",
    "def plot1(ax, test_score, X_test, y_test, test_pred):\n",
    "    ax.set_title(\"Test set performance\\nTest score: %.3f\"%(test_score),fontsize=16)\n",
    "    ax.set_xlabel(\"X-test\",fontsize=13)\n",
    "    ax.set_ylabel(\"y-test\",fontsize=13)\n",
    "    ax.scatter(X_test,y_test,edgecolors='k',c='blue',s=60)\n",
    "    ax.scatter(X_test,test_pred,edgecolors='k',c='yellow',s=60)\n",
    "    ax.grid(True)\n",
    "    ax.legend(['Actual test values','Predicted values'])\n",
    "    \n",
    "def plot2(ax, train_score, X_train, y_train, train_pred):\n",
    "    ax.set_title(\"Training set performance\\nTraining score: %.3f\"%(train_score),fontsize=16)\n",
    "    ax.set_xlabel(\"X-train\",fontsize=13)\n",
    "    ax.set_ylabel(\"y-train\",fontsize=13)\n",
    "    ax.scatter(X_train,y_train,c='blue')\n",
    "    ax.scatter(X_train,train_pred,c='yellow')\n",
    "    ax.grid(True)\n",
    "    ax.legend(['Actual training values','Fitted values'])\n",
    "    \n",
    "p2 = Plot(plot1, ax=ax1)\n",
    "p3 = Plot(plot2, ax=ax2)\n"
   ]
  },
  {
   "cell_type": "code",
   "execution_count": null,
   "metadata": {},
   "outputs": [],
   "source": []
  }
 ],
 "metadata": {
  "kernelspec": {
   "display_name": "PyQ 3",
   "language": "python",
   "name": "pyq_3"
  },
  "language_info": {
   "codemirror_mode": {
    "name": "ipython",
    "version": 3
   },
   "file_extension": ".py",
   "mimetype": "text/x-python",
   "name": "python",
   "nbconvert_exporter": "python",
   "pygments_lexer": "ipython3",
   "version": "3.7.9"
  },
  "toc": {
   "base_numbering": 1,
   "nav_menu": {},
   "number_sections": true,
   "sideBar": true,
   "skip_h1_title": false,
   "title_cell": "Table of Contents",
   "title_sidebar": "Contents",
   "toc_cell": false,
   "toc_position": {},
   "toc_section_display": true,
   "toc_window_display": false
  }
 },
 "nbformat": 4,
 "nbformat_minor": 4
}
