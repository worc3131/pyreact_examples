{
 "cells": [
  {
   "cell_type": "code",
   "execution_count": 1,
   "metadata": {},
   "outputs": [],
   "source": [
    "import matplotlib.pyplot as plt\n",
    "%matplotlib widget\n",
    "import numpy as np\n",
    "import pandas as pd\n",
    "import ipywidgets\n",
    "from reactpy import Reactive, Interact, Plot"
   ]
  },
  {
   "cell_type": "code",
   "execution_count": 2,
   "metadata": {
    "scrolled": true
   },
   "outputs": [
    {
     "data": {
      "application/vnd.jupyter.widget-view+json": {
       "model_id": "18328475042b4bfdb0efebbeee141dad",
       "version_major": 2,
       "version_minor": 0
      },
      "text/plain": [
       "interactive(children=(FloatSlider(value=2.0, description='value', max=5.0, min=-1.0, step=0.01), Output()), _d…"
      ]
     },
     "metadata": {},
     "output_type": "display_data"
    },
    {
     "data": {
      "application/vnd.jupyter.widget-view+json": {
       "model_id": "eb51cb8067394639bd13d59c790b11e4",
       "version_major": 2,
       "version_minor": 0
      },
      "text/plain": [
       "interactive(children=(FloatSlider(value=2.0, description='value', max=5.0, min=-1.0, step=0.01), Output()), _d…"
      ]
     },
     "metadata": {},
     "output_type": "display_data"
    },
    {
     "data": {
      "application/vnd.jupyter.widget-view+json": {
       "model_id": "b857ed44779743cbb83910a92fcf7e3a",
       "version_major": 2,
       "version_minor": 0
      },
      "text/plain": [
       "interactive(children=(FloatSlider(value=2.0, description='value', max=5.0, min=-1.0, step=0.01), Output()), _d…"
      ]
     },
     "metadata": {},
     "output_type": "display_data"
    },
    {
     "data": {
      "application/vnd.jupyter.widget-view+json": {
       "model_id": "f6c2499c0c254999a5101a6d6266a552",
       "version_major": 2,
       "version_minor": 0
      },
      "text/plain": [
       "interactive(children=(FloatSlider(value=2.0, description='value', max=5.0, min=-1.0, step=0.01), Output()), _d…"
      ]
     },
     "metadata": {},
     "output_type": "display_data"
    },
    {
     "data": {
      "application/vnd.jupyter.widget-view+json": {
       "model_id": "6964f703940a469cba40a9c3ca222456",
       "version_major": 2,
       "version_minor": 0
      },
      "text/plain": [
       "Canvas(toolbar=Toolbar(toolitems=[('Home', 'Reset original view', 'home', 'home'), ('Back', 'Back to previous …"
      ]
     },
     "metadata": {},
     "output_type": "display_data"
    }
   ],
   "source": [
    "r = Reactive(lazy_eval=False)\n",
    "for k in 'abcd':\n",
    "    r[k] = Interact(k, (-1,5,0.01))\n",
    "r.space_max, r.space_step = 10*np.pi, 2000\n",
    "r.space = r(lambda mn, mx, st: np.linspace(mn, mx, st), 0, 'space_max', 'space_step')\n",
    "r.x = r(lambda s,a,b: np.sin(s*a)*np.cos(s*b), s='space')\n",
    "r.y = r(lambda s,c,d: np.sin(s*c)*np.cos(s*d), s='space')\n",
    "r.plot = Plot(lambda ax, x, y: ax.plot(x, y, color='red'))"
   ]
  },
  {
   "cell_type": "code",
   "execution_count": 3,
   "metadata": {
    "scrolled": false
   },
   "outputs": [
    {
     "data": {
      "application/vnd.jupyter.widget-view+json": {
       "model_id": "10a0e89eef67478084de2ce6539aad2a",
       "version_major": 2,
       "version_minor": 0
      },
      "text/plain": [
       "interactive(children=(IntSlider(value=500, description='value', max=1000, step=10), Output()), _dom_classes=('…"
      ]
     },
     "metadata": {},
     "output_type": "display_data"
    },
    {
     "data": {
      "application/vnd.jupyter.widget-view+json": {
       "model_id": "cb58c7f0fc8c4ddf8df1ddc7baf8c4fe",
       "version_major": 2,
       "version_minor": 0
      },
      "text/plain": [
       "interactive(children=(IntSlider(value=500, description='value', max=1000, step=10), Output()), _dom_classes=('…"
      ]
     },
     "metadata": {},
     "output_type": "display_data"
    },
    {
     "data": {
      "application/vnd.jupyter.widget-view+json": {
       "model_id": "d8eadc71b5f14a31bad01ffd7c357ed5",
       "version_major": 2,
       "version_minor": 0
      },
      "text/plain": [
       "interactive(children=(IntSlider(value=20, continuous_update=False, description='value', min=1, step=5), Output…"
      ]
     },
     "metadata": {},
     "output_type": "display_data"
    },
    {
     "data": {
      "application/vnd.jupyter.widget-view+json": {
       "model_id": "c8b54145f03441f0b2b358716c656ec1",
       "version_major": 2,
       "version_minor": 0
      },
      "text/plain": [
       "interactive(children=(FloatSlider(value=0.05, description='value', max=1.0, min=-1.0, step=0.01), Output()), _…"
      ]
     },
     "metadata": {},
     "output_type": "display_data"
    },
    {
     "data": {
      "application/vnd.jupyter.widget-view+json": {
       "model_id": "dd8c56658fd3461bae85db51dc880446",
       "version_major": 2,
       "version_minor": 0
      },
      "text/plain": [
       "interactive(children=(FloatSlider(value=1.0, description='value', max=10.0, step=0.01), Output()), _dom_classe…"
      ]
     },
     "metadata": {},
     "output_type": "display_data"
    },
    {
     "data": {
      "application/vnd.jupyter.widget-view+json": {
       "model_id": "4db07cbebf004a3c92837b3207e39d24",
       "version_major": 2,
       "version_minor": 0
      },
      "text/plain": [
       "interactive(children=(FloatSlider(value=0.05, description='value', max=1.0, min=-1.0, step=0.01), Output()), _…"
      ]
     },
     "metadata": {},
     "output_type": "display_data"
    },
    {
     "data": {
      "application/vnd.jupyter.widget-view+json": {
       "model_id": "903a6390040f426dab8cd30f80140562",
       "version_major": 2,
       "version_minor": 0
      },
      "text/plain": [
       "interactive(children=(FloatSlider(value=1.0, description='value', max=10.0, step=0.01), Output()), _dom_classe…"
      ]
     },
     "metadata": {},
     "output_type": "display_data"
    },
    {
     "data": {
      "application/vnd.jupyter.widget-view+json": {
       "model_id": "1997ce1e221b45f3a567ebfcb4fa1191",
       "version_major": 2,
       "version_minor": 0
      },
      "text/plain": [
       "interactive(children=(FloatSlider(value=0.05, description='value', max=1.0, min=-1.0, step=0.01), Output()), _…"
      ]
     },
     "metadata": {},
     "output_type": "display_data"
    },
    {
     "data": {
      "application/vnd.jupyter.widget-view+json": {
       "model_id": "85287858e0514d73b19f1f42ca3f847b",
       "version_major": 2,
       "version_minor": 0
      },
      "text/plain": [
       "interactive(children=(FloatSlider(value=1.0, description='value', max=10.0, step=0.01), Output()), _dom_classe…"
      ]
     },
     "metadata": {},
     "output_type": "display_data"
    },
    {
     "data": {
      "application/vnd.jupyter.widget-view+json": {
       "model_id": "80965c486adc41e18db2a6e768896242",
       "version_major": 2,
       "version_minor": 0
      },
      "text/plain": [
       "Canvas(toolbar=Toolbar(toolitems=[('Home', 'Reset original view', 'home', 'home'), ('Back', 'Back to previous …"
      ]
     },
     "metadata": {},
     "output_type": "display_data"
    }
   ],
   "source": [
    "def do_bootstraps(mean, std, num_days, num_runs):\n",
    "    results = []\n",
    "    for _ in range(num_runs):\n",
    "        m = np.mean(np.random.normal(mean, std, num_days))\n",
    "        results.append(m)\n",
    "    return pd.Series(results)\n",
    "\n",
    "def plot(*args, ax=None, num_bins=10):\n",
    "    for series in args:\n",
    "        series.hist(ax=ax, bins=num_bins)\n",
    "    \n",
    "r = Reactive(lazy_eval=False)\n",
    "N = 3\n",
    "r.num_days = Interact('Days', (0, 1000, 10))\n",
    "r.num_runs = Interact('Runs', (0, 1000, 10))\n",
    "r.num_bins = Interact(\n",
    "    'Bins',\n",
    "    ipywidgets.IntSlider(min=1, max=100, step=5, value=20, continuous_update=False))\n",
    "for i in range(N):\n",
    "    r[f'm{i}'] = Interact(f'Mean {i}', ipywidgets.FloatSlider(min=-1, max=1, step=0.01, value=0.05))\n",
    "    r[f's{i}'] = Interact(f'Std. {i}', ipywidgets.FloatSlider(min=0, max=10, step=0.01, value=1))\n",
    "    r[f'n{i}'] = r(do_bootstraps, f'm{i}', f's{i}', 'num_days', 'num_runs')\n",
    "r.plot = Plot(plot, *[f'n{i}' for i in range(N)], num_bins='num_bins')"
   ]
  },
  {
   "cell_type": "code",
   "execution_count": null,
   "metadata": {},
   "outputs": [],
   "source": []
  },
  {
   "cell_type": "code",
   "execution_count": null,
   "metadata": {},
   "outputs": [],
   "source": []
  },
  {
   "cell_type": "code",
   "execution_count": null,
   "metadata": {},
   "outputs": [],
   "source": []
  }
 ],
 "metadata": {
  "kernelspec": {
   "display_name": "Python 3",
   "language": "python",
   "name": "python3"
  },
  "language_info": {
   "codemirror_mode": {
    "name": "ipython",
    "version": 3
   },
   "file_extension": ".py",
   "mimetype": "text/x-python",
   "name": "python",
   "nbconvert_exporter": "python",
   "pygments_lexer": "ipython3",
   "version": "3.7.9"
  },
  "toc": {
   "base_numbering": 1,
   "nav_menu": {},
   "number_sections": true,
   "sideBar": true,
   "skip_h1_title": false,
   "title_cell": "Table of Contents",
   "title_sidebar": "Contents",
   "toc_cell": false,
   "toc_position": {},
   "toc_section_display": true,
   "toc_window_display": false
  },
  "widgets": {
   "application/vnd.jupyter.widget-state+json": {
    "state": {
     "04dd75fdd7944862be485667d732cde3": {
      "model_module": "@jupyter-widgets/controls",
      "model_module_version": "1.5.0",
      "model_name": "FloatSliderModel",
      "state": {
       "description": "a",
       "layout": "IPY_MODEL_53dfbfb9a8fa411ca4f487dad39fa78d",
       "max": 5,
       "min": -1,
       "step": 0.01,
       "style": "IPY_MODEL_d67ed9ec796a4c22a7dd9ab9062aa82a",
       "value": 2
      }
     },
     "06842d28343842cba7c6efa95ea98fb8": {
      "model_module": "@jupyter-widgets/output",
      "model_module_version": "1.0.0",
      "model_name": "OutputModel",
      "state": {
       "layout": "IPY_MODEL_ac5538db94204942bfb06082902ba1d5"
      }
     },
     "06f62e1ede1a4140a3fa2316f9e3fe66": {
      "model_module": "@jupyter-widgets/base",
      "model_module_version": "1.2.0",
      "model_name": "LayoutModel",
      "state": {}
     },
     "0711db9586d1467eb8d1144a711f0364": {
      "model_module": "@jupyter-widgets/base",
      "model_module_version": "1.2.0",
      "model_name": "LayoutModel",
      "state": {}
     },
     "0eef9aba0db644c4a240b64a61b16f3c": {
      "model_module": "@jupyter-widgets/base",
      "model_module_version": "1.2.0",
      "model_name": "LayoutModel",
      "state": {}
     },
     "1058895b42ca45c2b51f5b7b63e08923": {
      "model_module": "@jupyter-widgets/controls",
      "model_module_version": "1.5.0",
      "model_name": "FloatSliderModel",
      "state": {
       "description": "Std. 2",
       "layout": "IPY_MODEL_961046eb422a43b29aa1789f2d79dfca",
       "max": 10,
       "step": 0.01,
       "style": "IPY_MODEL_ce870ae14ef64d219f7d3f010bab6c7c",
       "value": 1
      }
     },
     "10a0e89eef67478084de2ce6539aad2a": {
      "model_module": "@jupyter-widgets/controls",
      "model_module_version": "1.5.0",
      "model_name": "VBoxModel",
      "state": {
       "_dom_classes": [
        "widget-interact"
       ],
       "children": [
        "IPY_MODEL_a45246a54d7e4e2e915f5e37015b0e80",
        "IPY_MODEL_b99ed89fcc0a4c72a6a9fed5c5b3726d"
       ],
       "layout": "IPY_MODEL_0eef9aba0db644c4a240b64a61b16f3c"
      }
     },
     "125e6f9c29354323b39885fee30a5a91": {
      "model_module": "@jupyter-widgets/output",
      "model_module_version": "1.0.0",
      "model_name": "OutputModel",
      "state": {
       "layout": "IPY_MODEL_4b3c039f9b624c358643a4910a506fea"
      }
     },
     "1791dc6202144e19bc171ccc9e0d36d0": {
      "model_module": "@jupyter-widgets/base",
      "model_module_version": "1.2.0",
      "model_name": "LayoutModel",
      "state": {}
     },
     "18328475042b4bfdb0efebbeee141dad": {
      "model_module": "@jupyter-widgets/controls",
      "model_module_version": "1.5.0",
      "model_name": "VBoxModel",
      "state": {
       "_dom_classes": [
        "widget-interact"
       ],
       "children": [
        "IPY_MODEL_04dd75fdd7944862be485667d732cde3",
        "IPY_MODEL_313d0f06ce624b049c374c1ef421d925"
       ],
       "layout": "IPY_MODEL_bc4a1826059441e9b6e410bfe9bb63ae"
      }
     },
     "1936968bf9cf4ae0b4193e504029c5ef": {
      "model_module": "@jupyter-widgets/controls",
      "model_module_version": "1.5.0",
      "model_name": "SliderStyleModel",
      "state": {
       "description_width": ""
      }
     },
     "1997ce1e221b45f3a567ebfcb4fa1191": {
      "model_module": "@jupyter-widgets/controls",
      "model_module_version": "1.5.0",
      "model_name": "VBoxModel",
      "state": {
       "_dom_classes": [
        "widget-interact"
       ],
       "children": [
        "IPY_MODEL_19c1324d2b364d7caa3edad7ce8e4869",
        "IPY_MODEL_e0a5d142178546e593d3b6e2d4d22fe1"
       ],
       "layout": "IPY_MODEL_0711db9586d1467eb8d1144a711f0364"
      }
     },
     "19c1324d2b364d7caa3edad7ce8e4869": {
      "model_module": "@jupyter-widgets/controls",
      "model_module_version": "1.5.0",
      "model_name": "FloatSliderModel",
      "state": {
       "description": "Mean 2",
       "layout": "IPY_MODEL_cfe4bad281fa4319a899191f43e04ae1",
       "max": 1,
       "min": -1,
       "step": 0.01,
       "style": "IPY_MODEL_b6280319b6664065bfed30a0bbc63345",
       "value": 0.05
      }
     },
     "1be1b4839c2b4f5ebd8b17f975242ca8": {
      "model_module": "@jupyter-widgets/controls",
      "model_module_version": "1.5.0",
      "model_name": "FloatSliderModel",
      "state": {
       "description": "Std. 0",
       "layout": "IPY_MODEL_ba1ae4c8469b4f3c9f698cbf20919b9e",
       "max": 10,
       "step": 0.01,
       "style": "IPY_MODEL_86280e7293bb4251adff2ca1b1fe31ef",
       "value": 1
      }
     },
     "1d27b464eb7142c9aa17b7ab9c961a8d": {
      "model_module": "@jupyter-widgets/controls",
      "model_module_version": "1.5.0",
      "model_name": "SliderStyleModel",
      "state": {
       "description_width": ""
      }
     },
     "239c2f88c4c344e0914dcdfcce5c72fc": {
      "model_module": "@jupyter-widgets/base",
      "model_module_version": "1.2.0",
      "model_name": "LayoutModel",
      "state": {}
     },
     "27c3956483074225a286a5601675c115": {
      "model_module": "@jupyter-widgets/base",
      "model_module_version": "1.2.0",
      "model_name": "LayoutModel",
      "state": {}
     },
     "289c2a6911c84601bbcea7d24b8f338f": {
      "model_module": "@jupyter-widgets/controls",
      "model_module_version": "1.5.0",
      "model_name": "FloatSliderModel",
      "state": {
       "description": "b",
       "layout": "IPY_MODEL_80778bcfd1b948e8a8e25ceb7429b47c",
       "max": 5,
       "min": -1,
       "step": 0.01,
       "style": "IPY_MODEL_1d27b464eb7142c9aa17b7ab9c961a8d",
       "value": 2.5
      }
     },
     "2ceaeeb0c9b346d899af98a4d7fb2d4f": {
      "model_module": "@jupyter-widgets/base",
      "model_module_version": "1.2.0",
      "model_name": "LayoutModel",
      "state": {}
     },
     "2d68e02de3334a18b10d3f02547730e0": {
      "model_module": "@jupyter-widgets/output",
      "model_module_version": "1.0.0",
      "model_name": "OutputModel",
      "state": {
       "layout": "IPY_MODEL_3228ab2ffa6f4f788f801a1d85144ddf"
      }
     },
     "313d0f06ce624b049c374c1ef421d925": {
      "model_module": "@jupyter-widgets/output",
      "model_module_version": "1.0.0",
      "model_name": "OutputModel",
      "state": {
       "layout": "IPY_MODEL_853850c8bb0f4e1eb80d4459ed232448"
      }
     },
     "317dc9f02e6f4d7b8c65ef9fdb4f1888": {
      "model_module": "@jupyter-widgets/base",
      "model_module_version": "1.2.0",
      "model_name": "LayoutModel",
      "state": {}
     },
     "3228ab2ffa6f4f788f801a1d85144ddf": {
      "model_module": "@jupyter-widgets/base",
      "model_module_version": "1.2.0",
      "model_name": "LayoutModel",
      "state": {}
     },
     "397e7aa696d14994b9916ac97e2b96e4": {
      "model_module": "@jupyter-widgets/base",
      "model_module_version": "1.2.0",
      "model_name": "LayoutModel",
      "state": {}
     },
     "4b3c039f9b624c358643a4910a506fea": {
      "model_module": "@jupyter-widgets/base",
      "model_module_version": "1.2.0",
      "model_name": "LayoutModel",
      "state": {}
     },
     "4d328f20e52f46a3bf38196649e33fba": {
      "model_module": "@jupyter-widgets/base",
      "model_module_version": "1.2.0",
      "model_name": "LayoutModel",
      "state": {}
     },
     "4db07cbebf004a3c92837b3207e39d24": {
      "model_module": "@jupyter-widgets/controls",
      "model_module_version": "1.5.0",
      "model_name": "VBoxModel",
      "state": {
       "_dom_classes": [
        "widget-interact"
       ],
       "children": [
        "IPY_MODEL_f71806b01a324513a19183a1eaeb11b1",
        "IPY_MODEL_e28afa5b504d4e608a2938179b71c421"
       ],
       "layout": "IPY_MODEL_aa0f04254f834394a4b3ff20992d706b"
      }
     },
     "4db11f61cf7346768667a934a2e238ee": {
      "model_module": "@jupyter-widgets/controls",
      "model_module_version": "1.5.0",
      "model_name": "SliderStyleModel",
      "state": {
       "description_width": ""
      }
     },
     "4ed4ef5ef0134f67945bc419b19cf7da": {
      "model_module": "@jupyter-widgets/controls",
      "model_module_version": "1.5.0",
      "model_name": "SliderStyleModel",
      "state": {
       "description_width": ""
      }
     },
     "51830016fb8743948569ec2f1a67b16e": {
      "model_module": "@jupyter-widgets/controls",
      "model_module_version": "1.5.0",
      "model_name": "SliderStyleModel",
      "state": {
       "description_width": ""
      }
     },
     "53dfbfb9a8fa411ca4f487dad39fa78d": {
      "model_module": "@jupyter-widgets/base",
      "model_module_version": "1.2.0",
      "model_name": "LayoutModel",
      "state": {}
     },
     "5c63110fea834ed1891659cd944e70e3": {
      "model_module": "@jupyter-widgets/base",
      "model_module_version": "1.2.0",
      "model_name": "LayoutModel",
      "state": {}
     },
     "5fcd3aef3f104bf6a817583f52fe167b": {
      "model_module": "@jupyter-widgets/base",
      "model_module_version": "1.2.0",
      "model_name": "LayoutModel",
      "state": {}
     },
     "60566e42b18d4f3bac13df0ec546da7f": {
      "model_module": "@jupyter-widgets/controls",
      "model_module_version": "1.5.0",
      "model_name": "SliderStyleModel",
      "state": {
       "description_width": ""
      }
     },
     "667bf47974e24d92868d470c2087747c": {
      "model_module": "@jupyter-widgets/base",
      "model_module_version": "1.2.0",
      "model_name": "LayoutModel",
      "state": {}
     },
     "6964f703940a469cba40a9c3ca222456": {
      "model_module": "jupyter-matplotlib",
      "model_module_version": "^0.7.4",
      "model_name": "MPLCanvasModel",
      "state": {
       "_cursor": "default",
       "_figure_label": "Figure 1",
       "_height": 480,
       "_image_mode": "diff",
       "_width": 640,
       "layout": "IPY_MODEL_4d328f20e52f46a3bf38196649e33fba",
       "toolbar": "IPY_MODEL_a85579e1ab2e4e4782edbac418ee42ad",
       "toolbar_position": "left"
      }
     },
     "73567240d9404da3acb3f00ec88828e0": {
      "model_module": "@jupyter-widgets/base",
      "model_module_version": "1.2.0",
      "model_name": "LayoutModel",
      "state": {}
     },
     "76546605eef447a89a8cd97b0d36cc2e": {
      "model_module": "@jupyter-widgets/base",
      "model_module_version": "1.2.0",
      "model_name": "LayoutModel",
      "state": {}
     },
     "80778bcfd1b948e8a8e25ceb7429b47c": {
      "model_module": "@jupyter-widgets/base",
      "model_module_version": "1.2.0",
      "model_name": "LayoutModel",
      "state": {}
     },
     "80965c486adc41e18db2a6e768896242": {
      "model_module": "jupyter-matplotlib",
      "model_module_version": "^0.7.4",
      "model_name": "MPLCanvasModel",
      "state": {
       "_cursor": "default",
       "_figure_label": "Figure 2",
       "_height": 480,
       "_width": 640,
       "layout": "IPY_MODEL_73567240d9404da3acb3f00ec88828e0",
       "toolbar": "IPY_MODEL_b0232f6d45a749c2b2753e7b45a57944",
       "toolbar_position": "left"
      }
     },
     "841e8e0575714ee6a103546b8ec0ed23": {
      "model_module": "@jupyter-widgets/base",
      "model_module_version": "1.2.0",
      "model_name": "LayoutModel",
      "state": {}
     },
     "8448bf75d8244a87bd4d1a256702c4d8": {
      "model_module": "@jupyter-widgets/controls",
      "model_module_version": "1.5.0",
      "model_name": "SliderStyleModel",
      "state": {
       "description_width": ""
      }
     },
     "85287858e0514d73b19f1f42ca3f847b": {
      "model_module": "@jupyter-widgets/controls",
      "model_module_version": "1.5.0",
      "model_name": "VBoxModel",
      "state": {
       "_dom_classes": [
        "widget-interact"
       ],
       "children": [
        "IPY_MODEL_1058895b42ca45c2b51f5b7b63e08923",
        "IPY_MODEL_914ddeb8b21c4f0f8c75be3c4b865fe9"
       ],
       "layout": "IPY_MODEL_d9af6758a3d3444996a9b8411d5d0229"
      }
     },
     "853850c8bb0f4e1eb80d4459ed232448": {
      "model_module": "@jupyter-widgets/base",
      "model_module_version": "1.2.0",
      "model_name": "LayoutModel",
      "state": {}
     },
     "86280e7293bb4251adff2ca1b1fe31ef": {
      "model_module": "@jupyter-widgets/controls",
      "model_module_version": "1.5.0",
      "model_name": "SliderStyleModel",
      "state": {
       "description_width": ""
      }
     },
     "8a6ef8a6e3a44295b045a76d5d36e4d8": {
      "model_module": "@jupyter-widgets/controls",
      "model_module_version": "1.5.0",
      "model_name": "IntSliderModel",
      "state": {
       "description": "Runs",
       "layout": "IPY_MODEL_ec86eed667f54b0b9009d3fc0ad5928d",
       "max": 1000,
       "step": 10,
       "style": "IPY_MODEL_8448bf75d8244a87bd4d1a256702c4d8",
       "value": 500
      }
     },
     "8d017de2f58d408fb3e45c097d484702": {
      "model_module": "@jupyter-widgets/controls",
      "model_module_version": "1.5.0",
      "model_name": "FloatSliderModel",
      "state": {
       "description": "d",
       "layout": "IPY_MODEL_841e8e0575714ee6a103546b8ec0ed23",
       "max": 5,
       "min": -1,
       "step": 0.01,
       "style": "IPY_MODEL_60566e42b18d4f3bac13df0ec546da7f",
       "value": 2
      }
     },
     "903a6390040f426dab8cd30f80140562": {
      "model_module": "@jupyter-widgets/controls",
      "model_module_version": "1.5.0",
      "model_name": "VBoxModel",
      "state": {
       "_dom_classes": [
        "widget-interact"
       ],
       "children": [
        "IPY_MODEL_d5101272cf514e729300c32e45149805",
        "IPY_MODEL_caf9c26421a94cbaa09efdf2f14949c3"
       ],
       "layout": "IPY_MODEL_e30f0a7c4da44aa4a2329b5c764bfb31"
      }
     },
     "914ddeb8b21c4f0f8c75be3c4b865fe9": {
      "model_module": "@jupyter-widgets/output",
      "model_module_version": "1.0.0",
      "model_name": "OutputModel",
      "state": {
       "layout": "IPY_MODEL_5c63110fea834ed1891659cd944e70e3"
      }
     },
     "9571468c75a24363b2de5b83f5672b4b": {
      "model_module": "@jupyter-widgets/base",
      "model_module_version": "1.2.0",
      "model_name": "LayoutModel",
      "state": {}
     },
     "961046eb422a43b29aa1789f2d79dfca": {
      "model_module": "@jupyter-widgets/base",
      "model_module_version": "1.2.0",
      "model_name": "LayoutModel",
      "state": {}
     },
     "98bcaa4305a044f0a439cf54ef8674b2": {
      "model_module": "@jupyter-widgets/base",
      "model_module_version": "1.2.0",
      "model_name": "LayoutModel",
      "state": {}
     },
     "9ac54e3017a94fd89af364c255f8212d": {
      "model_module": "@jupyter-widgets/base",
      "model_module_version": "1.2.0",
      "model_name": "LayoutModel",
      "state": {}
     },
     "a2706d59a92c4168bd6885709984d37a": {
      "model_module": "@jupyter-widgets/base",
      "model_module_version": "1.2.0",
      "model_name": "LayoutModel",
      "state": {}
     },
     "a45246a54d7e4e2e915f5e37015b0e80": {
      "model_module": "@jupyter-widgets/controls",
      "model_module_version": "1.5.0",
      "model_name": "IntSliderModel",
      "state": {
       "description": "Days",
       "layout": "IPY_MODEL_d6bf9eadfe344ccabca49243bc4fc18a",
       "max": 1000,
       "step": 10,
       "style": "IPY_MODEL_4ed4ef5ef0134f67945bc419b19cf7da",
       "value": 500
      }
     },
     "a4bc851b235748c08e34f235100929aa": {
      "model_module": "@jupyter-widgets/base",
      "model_module_version": "1.2.0",
      "model_name": "LayoutModel",
      "state": {}
     },
     "a85579e1ab2e4e4782edbac418ee42ad": {
      "model_module": "jupyter-matplotlib",
      "model_module_version": "^0.7.4",
      "model_name": "ToolbarModel",
      "state": {
       "layout": "IPY_MODEL_76546605eef447a89a8cd97b0d36cc2e",
       "toolitems": [
        [
         "Home",
         "Reset original view",
         "home",
         "home"
        ],
        [
         "Back",
         "Back to previous view",
         "arrow-left",
         "back"
        ],
        [
         "Forward",
         "Forward to next view",
         "arrow-right",
         "forward"
        ],
        [
         "Pan",
         "Pan axes with left mouse, zoom with right",
         "arrows",
         "pan"
        ],
        [
         "Zoom",
         "Zoom to rectangle",
         "square-o",
         "zoom"
        ],
        [
         "Download",
         "Download plot",
         "floppy-o",
         "save_figure"
        ]
       ]
      }
     },
     "aa0f04254f834394a4b3ff20992d706b": {
      "model_module": "@jupyter-widgets/base",
      "model_module_version": "1.2.0",
      "model_name": "LayoutModel",
      "state": {}
     },
     "ac5538db94204942bfb06082902ba1d5": {
      "model_module": "@jupyter-widgets/base",
      "model_module_version": "1.2.0",
      "model_name": "LayoutModel",
      "state": {}
     },
     "ae89dacb3dfd4c1a9937a5f0b100ac0a": {
      "model_module": "@jupyter-widgets/output",
      "model_module_version": "1.0.0",
      "model_name": "OutputModel",
      "state": {
       "layout": "IPY_MODEL_1791dc6202144e19bc171ccc9e0d36d0"
      }
     },
     "af18920a7af447e9a108afcdabdd7584": {
      "model_module": "@jupyter-widgets/base",
      "model_module_version": "1.2.0",
      "model_name": "LayoutModel",
      "state": {}
     },
     "afc49d5d72d547cdb989a28815c82f74": {
      "model_module": "@jupyter-widgets/base",
      "model_module_version": "1.2.0",
      "model_name": "LayoutModel",
      "state": {}
     },
     "afd8508022f94728bb9ce8349f3115e2": {
      "model_module": "@jupyter-widgets/controls",
      "model_module_version": "1.5.0",
      "model_name": "SliderStyleModel",
      "state": {
       "description_width": ""
      }
     },
     "b0232f6d45a749c2b2753e7b45a57944": {
      "model_module": "jupyter-matplotlib",
      "model_module_version": "^0.7.4",
      "model_name": "ToolbarModel",
      "state": {
       "layout": "IPY_MODEL_5fcd3aef3f104bf6a817583f52fe167b",
       "toolitems": [
        [
         "Home",
         "Reset original view",
         "home",
         "home"
        ],
        [
         "Back",
         "Back to previous view",
         "arrow-left",
         "back"
        ],
        [
         "Forward",
         "Forward to next view",
         "arrow-right",
         "forward"
        ],
        [
         "Pan",
         "Pan axes with left mouse, zoom with right",
         "arrows",
         "pan"
        ],
        [
         "Zoom",
         "Zoom to rectangle",
         "square-o",
         "zoom"
        ],
        [
         "Download",
         "Download plot",
         "floppy-o",
         "save_figure"
        ]
       ]
      }
     },
     "b6280319b6664065bfed30a0bbc63345": {
      "model_module": "@jupyter-widgets/controls",
      "model_module_version": "1.5.0",
      "model_name": "SliderStyleModel",
      "state": {
       "description_width": ""
      }
     },
     "b857ed44779743cbb83910a92fcf7e3a": {
      "model_module": "@jupyter-widgets/controls",
      "model_module_version": "1.5.0",
      "model_name": "VBoxModel",
      "state": {
       "_dom_classes": [
        "widget-interact"
       ],
       "children": [
        "IPY_MODEL_cd0bb5327e12499a9afbfddcabdf0f74",
        "IPY_MODEL_e7c90673f9dc4e81943ad1cff9eb9810"
       ],
       "layout": "IPY_MODEL_d3ef297a8f2c4936bc709b991b5a35f2"
      }
     },
     "b872f7557050455ea41ee4c333a90ffa": {
      "model_module": "@jupyter-widgets/base",
      "model_module_version": "1.2.0",
      "model_name": "LayoutModel",
      "state": {}
     },
     "b99ed89fcc0a4c72a6a9fed5c5b3726d": {
      "model_module": "@jupyter-widgets/output",
      "model_module_version": "1.0.0",
      "model_name": "OutputModel",
      "state": {
       "layout": "IPY_MODEL_f50f8a1f53cc45fd9cd0e74593fc22fd"
      }
     },
     "ba1ae4c8469b4f3c9f698cbf20919b9e": {
      "model_module": "@jupyter-widgets/base",
      "model_module_version": "1.2.0",
      "model_name": "LayoutModel",
      "state": {}
     },
     "bc4a1826059441e9b6e410bfe9bb63ae": {
      "model_module": "@jupyter-widgets/base",
      "model_module_version": "1.2.0",
      "model_name": "LayoutModel",
      "state": {}
     },
     "c8b54145f03441f0b2b358716c656ec1": {
      "model_module": "@jupyter-widgets/controls",
      "model_module_version": "1.5.0",
      "model_name": "VBoxModel",
      "state": {
       "_dom_classes": [
        "widget-interact"
       ],
       "children": [
        "IPY_MODEL_c98174072d174a92994a5aec7c25b5c0",
        "IPY_MODEL_2d68e02de3334a18b10d3f02547730e0"
       ],
       "layout": "IPY_MODEL_d02796c0d33440d4aadc43c416566226"
      }
     },
     "c98174072d174a92994a5aec7c25b5c0": {
      "model_module": "@jupyter-widgets/controls",
      "model_module_version": "1.5.0",
      "model_name": "FloatSliderModel",
      "state": {
       "description": "Mean 0",
       "layout": "IPY_MODEL_397e7aa696d14994b9916ac97e2b96e4",
       "max": 1,
       "min": -1,
       "step": 0.01,
       "style": "IPY_MODEL_1936968bf9cf4ae0b4193e504029c5ef",
       "value": 0.05
      }
     },
     "caf9c26421a94cbaa09efdf2f14949c3": {
      "model_module": "@jupyter-widgets/output",
      "model_module_version": "1.0.0",
      "model_name": "OutputModel",
      "state": {
       "layout": "IPY_MODEL_afc49d5d72d547cdb989a28815c82f74"
      }
     },
     "cb58c7f0fc8c4ddf8df1ddc7baf8c4fe": {
      "model_module": "@jupyter-widgets/controls",
      "model_module_version": "1.5.0",
      "model_name": "VBoxModel",
      "state": {
       "_dom_classes": [
        "widget-interact"
       ],
       "children": [
        "IPY_MODEL_8a6ef8a6e3a44295b045a76d5d36e4d8",
        "IPY_MODEL_e493378c7f57413abed5b17ea246996c"
       ],
       "layout": "IPY_MODEL_af18920a7af447e9a108afcdabdd7584"
      }
     },
     "cd0bb5327e12499a9afbfddcabdf0f74": {
      "model_module": "@jupyter-widgets/controls",
      "model_module_version": "1.5.0",
      "model_name": "FloatSliderModel",
      "state": {
       "description": "c",
       "layout": "IPY_MODEL_06f62e1ede1a4140a3fa2316f9e3fe66",
       "max": 5,
       "min": -1,
       "step": 0.01,
       "style": "IPY_MODEL_4db11f61cf7346768667a934a2e238ee",
       "value": 2
      }
     },
     "ce870ae14ef64d219f7d3f010bab6c7c": {
      "model_module": "@jupyter-widgets/controls",
      "model_module_version": "1.5.0",
      "model_name": "SliderStyleModel",
      "state": {
       "description_width": ""
      }
     },
     "cfe4bad281fa4319a899191f43e04ae1": {
      "model_module": "@jupyter-widgets/base",
      "model_module_version": "1.2.0",
      "model_name": "LayoutModel",
      "state": {}
     },
     "d02796c0d33440d4aadc43c416566226": {
      "model_module": "@jupyter-widgets/base",
      "model_module_version": "1.2.0",
      "model_name": "LayoutModel",
      "state": {}
     },
     "d3ef297a8f2c4936bc709b991b5a35f2": {
      "model_module": "@jupyter-widgets/base",
      "model_module_version": "1.2.0",
      "model_name": "LayoutModel",
      "state": {}
     },
     "d5101272cf514e729300c32e45149805": {
      "model_module": "@jupyter-widgets/controls",
      "model_module_version": "1.5.0",
      "model_name": "FloatSliderModel",
      "state": {
       "description": "Std. 1",
       "layout": "IPY_MODEL_b872f7557050455ea41ee4c333a90ffa",
       "max": 10,
       "step": 0.01,
       "style": "IPY_MODEL_fb84298fddb2400fb88ce544ef99f976",
       "value": 1
      }
     },
     "d67ed9ec796a4c22a7dd9ab9062aa82a": {
      "model_module": "@jupyter-widgets/controls",
      "model_module_version": "1.5.0",
      "model_name": "SliderStyleModel",
      "state": {
       "description_width": ""
      }
     },
     "d6bf9eadfe344ccabca49243bc4fc18a": {
      "model_module": "@jupyter-widgets/base",
      "model_module_version": "1.2.0",
      "model_name": "LayoutModel",
      "state": {}
     },
     "d8eadc71b5f14a31bad01ffd7c357ed5": {
      "model_module": "@jupyter-widgets/controls",
      "model_module_version": "1.5.0",
      "model_name": "VBoxModel",
      "state": {
       "_dom_classes": [
        "widget-interact"
       ],
       "children": [
        "IPY_MODEL_fb0604759bc94619ae9401d5a1cab37f",
        "IPY_MODEL_decaee794018458dac757fc272808b4e"
       ],
       "layout": "IPY_MODEL_2ceaeeb0c9b346d899af98a4d7fb2d4f"
      }
     },
     "d9af6758a3d3444996a9b8411d5d0229": {
      "model_module": "@jupyter-widgets/base",
      "model_module_version": "1.2.0",
      "model_name": "LayoutModel",
      "state": {}
     },
     "dd8c56658fd3461bae85db51dc880446": {
      "model_module": "@jupyter-widgets/controls",
      "model_module_version": "1.5.0",
      "model_name": "VBoxModel",
      "state": {
       "_dom_classes": [
        "widget-interact"
       ],
       "children": [
        "IPY_MODEL_1be1b4839c2b4f5ebd8b17f975242ca8",
        "IPY_MODEL_06842d28343842cba7c6efa95ea98fb8"
       ],
       "layout": "IPY_MODEL_98bcaa4305a044f0a439cf54ef8674b2"
      }
     },
     "decaee794018458dac757fc272808b4e": {
      "model_module": "@jupyter-widgets/output",
      "model_module_version": "1.0.0",
      "model_name": "OutputModel",
      "state": {
       "layout": "IPY_MODEL_27c3956483074225a286a5601675c115"
      }
     },
     "e0a5d142178546e593d3b6e2d4d22fe1": {
      "model_module": "@jupyter-widgets/output",
      "model_module_version": "1.0.0",
      "model_name": "OutputModel",
      "state": {
       "layout": "IPY_MODEL_239c2f88c4c344e0914dcdfcce5c72fc"
      }
     },
     "e28afa5b504d4e608a2938179b71c421": {
      "model_module": "@jupyter-widgets/output",
      "model_module_version": "1.0.0",
      "model_name": "OutputModel",
      "state": {
       "layout": "IPY_MODEL_667bf47974e24d92868d470c2087747c"
      }
     },
     "e30f0a7c4da44aa4a2329b5c764bfb31": {
      "model_module": "@jupyter-widgets/base",
      "model_module_version": "1.2.0",
      "model_name": "LayoutModel",
      "state": {}
     },
     "e493378c7f57413abed5b17ea246996c": {
      "model_module": "@jupyter-widgets/output",
      "model_module_version": "1.0.0",
      "model_name": "OutputModel",
      "state": {
       "layout": "IPY_MODEL_9571468c75a24363b2de5b83f5672b4b"
      }
     },
     "e5c1e40704ea4d2393ea3b94a0955e3e": {
      "model_module": "@jupyter-widgets/base",
      "model_module_version": "1.2.0",
      "model_name": "LayoutModel",
      "state": {}
     },
     "e7c90673f9dc4e81943ad1cff9eb9810": {
      "model_module": "@jupyter-widgets/output",
      "model_module_version": "1.0.0",
      "model_name": "OutputModel",
      "state": {
       "layout": "IPY_MODEL_e5c1e40704ea4d2393ea3b94a0955e3e"
      }
     },
     "eb51cb8067394639bd13d59c790b11e4": {
      "model_module": "@jupyter-widgets/controls",
      "model_module_version": "1.5.0",
      "model_name": "VBoxModel",
      "state": {
       "_dom_classes": [
        "widget-interact"
       ],
       "children": [
        "IPY_MODEL_289c2a6911c84601bbcea7d24b8f338f",
        "IPY_MODEL_ae89dacb3dfd4c1a9937a5f0b100ac0a"
       ],
       "layout": "IPY_MODEL_a2706d59a92c4168bd6885709984d37a"
      }
     },
     "ec86eed667f54b0b9009d3fc0ad5928d": {
      "model_module": "@jupyter-widgets/base",
      "model_module_version": "1.2.0",
      "model_name": "LayoutModel",
      "state": {}
     },
     "f50f8a1f53cc45fd9cd0e74593fc22fd": {
      "model_module": "@jupyter-widgets/base",
      "model_module_version": "1.2.0",
      "model_name": "LayoutModel",
      "state": {}
     },
     "f6c2499c0c254999a5101a6d6266a552": {
      "model_module": "@jupyter-widgets/controls",
      "model_module_version": "1.5.0",
      "model_name": "VBoxModel",
      "state": {
       "_dom_classes": [
        "widget-interact"
       ],
       "children": [
        "IPY_MODEL_8d017de2f58d408fb3e45c097d484702",
        "IPY_MODEL_125e6f9c29354323b39885fee30a5a91"
       ],
       "layout": "IPY_MODEL_a4bc851b235748c08e34f235100929aa"
      }
     },
     "f71806b01a324513a19183a1eaeb11b1": {
      "model_module": "@jupyter-widgets/controls",
      "model_module_version": "1.5.0",
      "model_name": "FloatSliderModel",
      "state": {
       "description": "Mean 1",
       "layout": "IPY_MODEL_317dc9f02e6f4d7b8c65ef9fdb4f1888",
       "max": 1,
       "min": -1,
       "step": 0.01,
       "style": "IPY_MODEL_51830016fb8743948569ec2f1a67b16e",
       "value": 0.05
      }
     },
     "fb0604759bc94619ae9401d5a1cab37f": {
      "model_module": "@jupyter-widgets/controls",
      "model_module_version": "1.5.0",
      "model_name": "IntSliderModel",
      "state": {
       "continuous_update": false,
       "description": "Bins",
       "layout": "IPY_MODEL_9ac54e3017a94fd89af364c255f8212d",
       "min": 1,
       "step": 5,
       "style": "IPY_MODEL_afd8508022f94728bb9ce8349f3115e2",
       "value": 20
      }
     },
     "fb84298fddb2400fb88ce544ef99f976": {
      "model_module": "@jupyter-widgets/controls",
      "model_module_version": "1.5.0",
      "model_name": "SliderStyleModel",
      "state": {
       "description_width": ""
      }
     }
    },
    "version_major": 2,
    "version_minor": 0
   }
  }
 },
 "nbformat": 4,
 "nbformat_minor": 4
}
